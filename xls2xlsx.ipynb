{
 "cells": [
  {
   "cell_type": "code",
   "execution_count": null,
   "metadata": {},
   "outputs": [],
   "source": [
    "#xls2xlsx_converster\n",
    "#created by Jin Woo Lee\n",
    "#https://github.com/jinlee487/xls_to_xlsx_conversion_script"
   ]
  },
  {
   "cell_type": "code",
   "execution_count": null,
   "metadata": {},
   "outputs": [],
   "source": [
    "import sys\n",
    "import pandas as pd\n",
    "import json \n",
    "import os \n",
    "import datetime\n",
    "import glob"
   ]
  },
  {
   "cell_type": "code",
   "execution_count": null,
   "metadata": {},
   "outputs": [],
   "source": [
    "pd.set_option('display.width', 400)\n",
    "pd.set_option('display.max_columns', None)"
   ]
  },
  {
   "cell_type": "code",
   "execution_count": null,
   "metadata": {},
   "outputs": [],
   "source": []
  },
  {
   "cell_type": "code",
   "execution_count": null,
   "metadata": {},
   "outputs": [],
   "source": []
  },
  {
   "cell_type": "code",
   "execution_count": null,
   "metadata": {},
   "outputs": [],
   "source": [
    "#TODO \n",
    "#autoscan\n"
   ]
  },
  {
   "cell_type": "code",
   "execution_count": 1,
   "metadata": {},
   "outputs": [],
   "source": [
    "\n",
    "\n",
    "#https://www.geeksforgeeks.org/python-convert-an-html-table-into-excel/\n",
    "#https://stackoverflow.com/questions/51898826/converting-object-column-in-pandas-dataframe-to-datetime\n",
    "def convert_xls_to_xlsx(path,name):   \n",
    "    \n",
    "    try:\n",
    "        df = pd.read_html(path+\"\\\\\"+name+\".xls\")[0]\n",
    "        df[4] = df[4].str.split(' ').str[0]\n",
    "#       df[4] = pd.to_datetime(df[4].str.strip(), errors='ignore',format=\"%YYYY-%mm-%dd %HH:%MM:%SS\")\n",
    "        #2021-03-02 13:30:22\n",
    "        print(\"\\n\")\n",
    "        print(df[[0, 2, 3, 4]])\n",
    "        print(\"\\n\")\n",
    "        choice = input(\"\\n작업을 계속 진행하고 싶으시면 Y 아니면 y 를 입력해주세요.\\n\\n\").strip()\n",
    "        if choice == \"Y\" or choice == \"y\":\n",
    "            df.to_excel(path+\"\\\\\"+name+\".xlsx\",header=False, index=False)\n",
    "            print(\"\\n  다음 경로로\"+path+\"\\n\\n  \"+name+\".xlsx\\n\\n  파일을 성공적으로 저장하였습니다.\\n\")\n",
    "            print(\"\\nOperation successful.....Terminating the program.\\n\")\n",
    "        else:\n",
    "            print(\"\\n.....Terminating the program.\\n\")\n",
    "            quit()\n",
    "               \n",
    "    except Exception as e:\n",
    "        print(\"\\n\\nAn exception occurred!\\n\")\n",
    "        print(e)\n"
   ]
  },
  {
   "cell_type": "code",
   "execution_count": null,
   "metadata": {},
   "outputs": [],
   "source": [
    "def read_settings():\n",
    "    print(\"\\n\\n...Loading xls_to_xlsx_conversion_script\\n\\n...configuring settings\\n\")\n",
    "    with open(os.path.join(os.path.dirname(__file__),\"config.json\"), encoding='UTF8') as json_data:\n",
    "            f = json.load(json_data) \n",
    "    print(f\"....xls file directory : {f['directory']}\\n\\n\")\n",
    "    print(\"\\n\")\n",
    "\n",
    "    return f[\"directory\"]"
   ]
  },
  {
   "cell_type": "code",
   "execution_count": null,
   "metadata": {},
   "outputs": [],
   "source": [
    "def get_subdirs(directory):\n",
    "    \"Get a list of immediate subdirectories\"\n",
    "    return next(os.walk(directory))[1]"
   ]
  },
  {
   "cell_type": "code",
   "execution_count": null,
   "metadata": {},
   "outputs": [],
   "source": [
    "\n",
    " \n",
    "def choose_function():     \n",
    "    directory = read_settings()\n",
    "    \n",
    "    choice = input(\"\\t변환하고 싶은 xls 파일의 path를 지정해주세요.\\n \\n\\tEnter 1 : 직접 입력.\\n \\n\\tEnter 2 : 자동 파일 찾기.\\n \\n\\t기타: close program.\\n\\n\")\n",
    "    \n",
    "    if choice == \"1\":\n",
    "        print(f\"\\n\\tYou entered {choice} : 직접 입력.\\n\")\n",
    "        path = input(\"\\n\\tEnter file path : \")\n",
    "        name = input(\"\\n\\tEnter file name (without extention): \")\n",
    "        if(len(path)>0):\n",
    "            print(f\"\\n\\tYou entered \\n{path}\\\\{name}.xls\\n Initializing conversion ~~\\n\")\n",
    "            convert_xls_to_xlsx(path,name)\n",
    "        else: \n",
    "            print(f\"\\n\\tAn exception occurred.\\n You entered {path}. Path is unrecognizable ~~\\n\")\n",
    "            quit()\n",
    "        \n",
    "    elif choice == \"2\":\n",
    "        print(f\"\\n\\tYou entered {choice} : 자동 파일 찾기. \\n\")\n",
    "        today = datetime.datetime.now()\n",
    "        year = str(today.year)\n",
    "        month = str(today.month) +\"월\"\n",
    "        print(\"\\tToday's date:\",today,\"\\n\")\n",
    "        year_dir = get_subdirs(directory)\n",
    "        if any(year in s for s in year_dir):\n",
    "            directory = directory + \"\\\\\" + year\n",
    "        month_dir = get_subdirs(directory)\n",
    "        if any(month in s for s in month_dir):\n",
    "            directory = directory + \"\\\\\" + month\n",
    "        file_dir=max(glob.glob(directory+\"\\\\*\"), key=os.path.getmtime)\n",
    "        file_name=os.path.basename(file_dir)\n",
    "        file_name_n_ext=os.path.splitext(file_name)[0]\n",
    "        print(\"\\tfound file in the following path ... \\n\")\n",
    "        print(f\"\\tfull path : {file_dir}\\n\")\n",
    "        print(\"\\tdirectory : \" + directory + \"\\n\")\n",
    "        print(\"\\tfile_name_n_ext : \" + file_name_n_ext+\"\\n Initializing conversion ~~\\n\")\n",
    "        convert_xls_to_xlsx(directory,file_name_n_ext)\n",
    "        \n",
    "    else:\n",
    "        print(\"\\n\\t.........Terminating the program.\\n\\n\\n\")\n",
    "        quit()"
   ]
  },
  {
   "cell_type": "code",
   "execution_count": null,
   "metadata": {},
   "outputs": [],
   "source": []
  },
  {
   "cell_type": "code",
   "execution_count": null,
   "metadata": {},
   "outputs": [],
   "source": [
    "choose_function()"
   ]
  }
 ],
 "metadata": {
  "kernelspec": {
   "display_name": "Python 3",
   "language": "python",
   "name": "python3"
  },
  "language_info": {
   "codemirror_mode": {
    "name": "ipython",
    "version": 3
   },
   "file_extension": ".py",
   "mimetype": "text/x-python",
   "name": "python",
   "nbconvert_exporter": "python",
   "pygments_lexer": "ipython3",
   "version": "3.8.5"
  }
 },
 "nbformat": 4,
 "nbformat_minor": 4
}
