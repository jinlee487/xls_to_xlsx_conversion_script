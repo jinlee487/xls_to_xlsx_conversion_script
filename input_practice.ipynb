{
 "cells": [
  {
   "cell_type": "code",
   "execution_count": null,
   "metadata": {},
   "outputs": [],
   "source": [
    "#XLS_toXLSX_converster\n",
    "#created by Jin Woo Lee\n",
    "#https://github.com/jinlee487"
   ]
  },
  {
   "cell_type": "code",
   "execution_count": null,
   "metadata": {},
   "outputs": [],
   "source": [
    "import sys\n",
    "import pandas as pd\n"
   ]
  },
  {
   "cell_type": "code",
   "execution_count": null,
   "metadata": {},
   "outputs": [],
   "source": [
    "pd.set_option('display.width', 400)\n",
    "pd.set_option('display.max_columns', None)"
   ]
  },
  {
   "cell_type": "code",
   "execution_count": null,
   "metadata": {},
   "outputs": [],
   "source": []
  },
  {
   "cell_type": "code",
   "execution_count": null,
   "metadata": {},
   "outputs": [],
   "source": []
  },
  {
   "cell_type": "code",
   "execution_count": null,
   "metadata": {},
   "outputs": [],
   "source": [
    "#TODO \n",
    "#autoscan\n"
   ]
  },
  {
   "cell_type": "code",
   "execution_count": 1,
   "metadata": {},
   "outputs": [],
   "source": [
    "\n",
    "# df = pd.read_excel(\"file.xls\")\n",
    "# df.to_excel(\"file.xlsx\")\n",
    "\n",
    "#https://www.geeksforgeeks.org/python-convert-an-html-table-into-excel/\n",
    "#https://stackoverflow.com/questions/51898826/converting-object-column-in-pandas-dataframe-to-datetime\n",
    "def convert_xls_to_xlsx(path,name):   \n",
    "    \n",
    "    try:\n",
    "        df = pd.read_html(path+\"\\\\\"+name+\".xls\")[0]\n",
    "        df[4] = df[4].str.split(' ').str[0]\n",
    "#       df[4] = pd.to_datetime(df[4].str.strip(), errors='ignore',format=\"%YYYY-%mm-%dd %HH:%MM:%SS\")\n",
    "        #2021-03-02 13:30:22\n",
    "        print(\"\\n\")\n",
    "        print(df[[0, 2, 3, 4]])\n",
    "        print(\"\\n\")\n",
    "        choice = input(\"\\n작업을 계속 진행하고 싶으시면 Y 아니면 y 를 입력해주세요.\\n\\n\").strip()\n",
    "        if choice == \"Y\" or choice == \"y\":\n",
    "            df.to_excel(path+\"\\\\\"+name+\".xlsx\",header=False, index=False)\n",
    "            print(\"\\n  다음 경로로\"+path+\"\\n\\n  \"+name+\".xlsx\\n\\n  파일을 성공적으로 저장하였습니다.\\n\")\n",
    "            print(\"\\nOperation successful.....Terminating the program.\\n\")\n",
    "        else:\n",
    "            print(\"\\n.....Terminating the program.\\n\")\n",
    "            quit()\n",
    "               \n",
    "    except Exception as e:\n",
    "        print(\"\\n\\nAn exception occurred!\\n\")\n",
    "        print(e)\n"
   ]
  },
  {
   "cell_type": "code",
   "execution_count": null,
   "metadata": {},
   "outputs": [],
   "source": [
    "\n",
    " \n",
    "def choose_function():     \n",
    "    choice = input(\"\\n변환하고 싶은 xls 파일의 path를 지정해주세요.\\n \\nEnter 1 : 직접 입력.\\n \\nEnter 2 : 자동 파일 찾기.\\n\\n\")\n",
    "    choice = int(choice)\n",
    "    \n",
    "    if choice == 1:\n",
    "        print(f\"\\nYou entered {choice} : 직접 입력.\\n\")\n",
    "        path = input(\"\\nEnter file path : \")\n",
    "        name = input(\"\\nEnter file name (without extention): \")\n",
    "        if(len(path)>0):\n",
    "            print(f\"\\nYou entered \\n{path}\\\\{name}.xls\\n Initializing conversion ~~\\n\")\n",
    "            convert_xls_to_xlsx(path,name)\n",
    "        else: \n",
    "            print(f\"An exception occurred.\\n You entered {path}. Path is unrecognizable ~~\\n\")\n",
    "            quit()\n",
    "        \n",
    "    elif choice == 2:\n",
    "        print(f\"You entered {path} : 자동 파일 찾기. \\n\")\n",
    "        \n",
    "    else:\n",
    "        print(\"Wrong Choice, terminating the program.\")\n",
    "        quit()"
   ]
  },
  {
   "cell_type": "code",
   "execution_count": null,
   "metadata": {},
   "outputs": [],
   "source": [
    "choose_function()"
   ]
  }
 ],
 "metadata": {
  "kernelspec": {
   "display_name": "Python 3",
   "language": "python",
   "name": "python3"
  },
  "language_info": {
   "codemirror_mode": {
    "name": "ipython",
    "version": 3
   },
   "file_extension": ".py",
   "mimetype": "text/x-python",
   "name": "python",
   "nbconvert_exporter": "python",
   "pygments_lexer": "ipython3",
   "version": "3.8.5"
  }
 },
 "nbformat": 4,
 "nbformat_minor": 4
}
